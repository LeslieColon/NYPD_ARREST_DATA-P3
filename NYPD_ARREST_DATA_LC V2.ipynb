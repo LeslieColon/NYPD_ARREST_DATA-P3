{
 "cells": [
  {
   "cell_type": "markdown",
   "metadata": {},
   "source": [
    "# Import of Pandas Libraries"
   ]
  },
  {
   "cell_type": "code",
   "execution_count": 1,
   "metadata": {},
   "outputs": [],
   "source": [
    "import pandas as pd\n",
    "import numpy as np\n",
    "import matplotlib.pyplot as plt\n",
    "import seaborn as sns"
   ]
  },
  {
   "cell_type": "markdown",
   "metadata": {},
   "source": [
    "# Import of CSV File"
   ]
  },
  {
   "cell_type": "code",
   "execution_count": 2,
   "metadata": {},
   "outputs": [],
   "source": [
    "df=pd.read_csv('https://data.cityofnewyork.us/api/views/uip8-fykc/rows.csv?accessType=DOWNLOAD')"
   ]
  },
  {
   "cell_type": "code",
   "execution_count": 3,
   "metadata": {
    "scrolled": true
   },
   "outputs": [
    {
     "data": {
      "text/html": [
       "<div>\n",
       "<style scoped>\n",
       "    .dataframe tbody tr th:only-of-type {\n",
       "        vertical-align: middle;\n",
       "    }\n",
       "\n",
       "    .dataframe tbody tr th {\n",
       "        vertical-align: top;\n",
       "    }\n",
       "\n",
       "    .dataframe thead th {\n",
       "        text-align: right;\n",
       "    }\n",
       "</style>\n",
       "<table border=\"1\" class=\"dataframe\">\n",
       "  <thead>\n",
       "    <tr style=\"text-align: right;\">\n",
       "      <th></th>\n",
       "      <th>ARREST_KEY</th>\n",
       "      <th>ARREST_DATE</th>\n",
       "      <th>PD_CD</th>\n",
       "      <th>PD_DESC</th>\n",
       "      <th>KY_CD</th>\n",
       "      <th>OFNS_DESC</th>\n",
       "      <th>LAW_CODE</th>\n",
       "      <th>LAW_CAT_CD</th>\n",
       "      <th>ARREST_BORO</th>\n",
       "      <th>ARREST_PRECINCT</th>\n",
       "      <th>JURISDICTION_CODE</th>\n",
       "      <th>AGE_GROUP</th>\n",
       "      <th>PERP_SEX</th>\n",
       "      <th>PERP_RACE</th>\n",
       "      <th>X_COORD_CD</th>\n",
       "      <th>Y_COORD_CD</th>\n",
       "      <th>Latitude</th>\n",
       "      <th>Longitude</th>\n",
       "      <th>New Georeferenced Column</th>\n",
       "    </tr>\n",
       "  </thead>\n",
       "  <tbody>\n",
       "    <tr>\n",
       "      <th>0</th>\n",
       "      <td>263187871</td>\n",
       "      <td>02/07/2023</td>\n",
       "      <td>105.0</td>\n",
       "      <td>STRANGULATION 1ST</td>\n",
       "      <td>106.0</td>\n",
       "      <td>FELONY ASSAULT</td>\n",
       "      <td>PL 1211200</td>\n",
       "      <td>F</td>\n",
       "      <td>S</td>\n",
       "      <td>120</td>\n",
       "      <td>0</td>\n",
       "      <td>25-44</td>\n",
       "      <td>M</td>\n",
       "      <td>BLACK</td>\n",
       "      <td>951637</td>\n",
       "      <td>171141</td>\n",
       "      <td>40.636362</td>\n",
       "      <td>-74.117505</td>\n",
       "      <td>POINT (-74.117505 40.636362)</td>\n",
       "    </tr>\n",
       "    <tr>\n",
       "      <th>1</th>\n",
       "      <td>261368273</td>\n",
       "      <td>01/04/2023</td>\n",
       "      <td>NaN</td>\n",
       "      <td>(null)</td>\n",
       "      <td>NaN</td>\n",
       "      <td>(null)</td>\n",
       "      <td>RPA0076801</td>\n",
       "      <td>M</td>\n",
       "      <td>M</td>\n",
       "      <td>34</td>\n",
       "      <td>0</td>\n",
       "      <td>25-44</td>\n",
       "      <td>F</td>\n",
       "      <td>BLACK</td>\n",
       "      <td>1004287</td>\n",
       "      <td>251338</td>\n",
       "      <td>40.856519</td>\n",
       "      <td>-73.927564</td>\n",
       "      <td>POINT (-73.927564 40.856519)</td>\n",
       "    </tr>\n",
       "    <tr>\n",
       "      <th>2</th>\n",
       "      <td>261667175</td>\n",
       "      <td>01/10/2023</td>\n",
       "      <td>101.0</td>\n",
       "      <td>ASSAULT 3</td>\n",
       "      <td>344.0</td>\n",
       "      <td>ASSAULT 3 &amp; RELATED OFFENSES</td>\n",
       "      <td>PL 1200001</td>\n",
       "      <td>M</td>\n",
       "      <td>B</td>\n",
       "      <td>42</td>\n",
       "      <td>0</td>\n",
       "      <td>18-24</td>\n",
       "      <td>F</td>\n",
       "      <td>WHITE HISPANIC</td>\n",
       "      <td>1008754</td>\n",
       "      <td>238895</td>\n",
       "      <td>40.822355</td>\n",
       "      <td>-73.911463</td>\n",
       "      <td>POINT (-73.911463 40.822355)</td>\n",
       "    </tr>\n",
       "    <tr>\n",
       "      <th>3</th>\n",
       "      <td>264298625</td>\n",
       "      <td>02/27/2023</td>\n",
       "      <td>NaN</td>\n",
       "      <td>(null)</td>\n",
       "      <td>NaN</td>\n",
       "      <td>(null)</td>\n",
       "      <td>PL 2224000</td>\n",
       "      <td>F</td>\n",
       "      <td>Q</td>\n",
       "      <td>113</td>\n",
       "      <td>0</td>\n",
       "      <td>25-44</td>\n",
       "      <td>M</td>\n",
       "      <td>BLACK</td>\n",
       "      <td>1039225</td>\n",
       "      <td>181937</td>\n",
       "      <td>40.665881</td>\n",
       "      <td>-73.801837</td>\n",
       "      <td>POINT (-73.80183654 40.66588105)</td>\n",
       "    </tr>\n",
       "    <tr>\n",
       "      <th>4</th>\n",
       "      <td>261516485</td>\n",
       "      <td>01/07/2023</td>\n",
       "      <td>397.0</td>\n",
       "      <td>ROBBERY,OPEN AREA UNCLASSIFIED</td>\n",
       "      <td>105.0</td>\n",
       "      <td>ROBBERY</td>\n",
       "      <td>PL 1601001</td>\n",
       "      <td>F</td>\n",
       "      <td>M</td>\n",
       "      <td>18</td>\n",
       "      <td>0</td>\n",
       "      <td>&lt;18</td>\n",
       "      <td>M</td>\n",
       "      <td>BLACK</td>\n",
       "      <td>988210</td>\n",
       "      <td>218129</td>\n",
       "      <td>40.765390</td>\n",
       "      <td>-73.985702</td>\n",
       "      <td>POINT (-73.985702 40.76539)</td>\n",
       "    </tr>\n",
       "  </tbody>\n",
       "</table>\n",
       "</div>"
      ],
      "text/plain": [
       "   ARREST_KEY ARREST_DATE  PD_CD                         PD_DESC  KY_CD  \\\n",
       "0   263187871  02/07/2023  105.0               STRANGULATION 1ST  106.0   \n",
       "1   261368273  01/04/2023    NaN                          (null)    NaN   \n",
       "2   261667175  01/10/2023  101.0                       ASSAULT 3  344.0   \n",
       "3   264298625  02/27/2023    NaN                          (null)    NaN   \n",
       "4   261516485  01/07/2023  397.0  ROBBERY,OPEN AREA UNCLASSIFIED  105.0   \n",
       "\n",
       "                      OFNS_DESC    LAW_CODE LAW_CAT_CD ARREST_BORO  \\\n",
       "0                FELONY ASSAULT  PL 1211200          F           S   \n",
       "1                        (null)  RPA0076801          M           M   \n",
       "2  ASSAULT 3 & RELATED OFFENSES  PL 1200001          M           B   \n",
       "3                        (null)  PL 2224000          F           Q   \n",
       "4                       ROBBERY  PL 1601001          F           M   \n",
       "\n",
       "   ARREST_PRECINCT  JURISDICTION_CODE AGE_GROUP PERP_SEX       PERP_RACE  \\\n",
       "0              120                  0     25-44        M           BLACK   \n",
       "1               34                  0     25-44        F           BLACK   \n",
       "2               42                  0     18-24        F  WHITE HISPANIC   \n",
       "3              113                  0     25-44        M           BLACK   \n",
       "4               18                  0       <18        M           BLACK   \n",
       "\n",
       "   X_COORD_CD  Y_COORD_CD   Latitude  Longitude  \\\n",
       "0      951637      171141  40.636362 -74.117505   \n",
       "1     1004287      251338  40.856519 -73.927564   \n",
       "2     1008754      238895  40.822355 -73.911463   \n",
       "3     1039225      181937  40.665881 -73.801837   \n",
       "4      988210      218129  40.765390 -73.985702   \n",
       "\n",
       "           New Georeferenced Column  \n",
       "0      POINT (-74.117505 40.636362)  \n",
       "1      POINT (-73.927564 40.856519)  \n",
       "2      POINT (-73.911463 40.822355)  \n",
       "3  POINT (-73.80183654 40.66588105)  \n",
       "4       POINT (-73.985702 40.76539)  "
      ]
     },
     "execution_count": 3,
     "metadata": {},
     "output_type": "execute_result"
    }
   ],
   "source": [
    "df.head()"
   ]
  },
  {
   "cell_type": "code",
   "execution_count": 4,
   "metadata": {},
   "outputs": [
    {
     "data": {
      "text/html": [
       "<div>\n",
       "<style scoped>\n",
       "    .dataframe tbody tr th:only-of-type {\n",
       "        vertical-align: middle;\n",
       "    }\n",
       "\n",
       "    .dataframe tbody tr th {\n",
       "        vertical-align: top;\n",
       "    }\n",
       "\n",
       "    .dataframe thead th {\n",
       "        text-align: right;\n",
       "    }\n",
       "</style>\n",
       "<table border=\"1\" class=\"dataframe\">\n",
       "  <thead>\n",
       "    <tr style=\"text-align: right;\">\n",
       "      <th></th>\n",
       "      <th>ARREST_KEY</th>\n",
       "      <th>ARREST_DATE</th>\n",
       "      <th>PD_CD</th>\n",
       "      <th>PD_DESC</th>\n",
       "      <th>KY_CD</th>\n",
       "      <th>OFNS_DESC</th>\n",
       "      <th>LAW_CODE</th>\n",
       "      <th>LAW_CAT_CD</th>\n",
       "      <th>ARREST_BORO</th>\n",
       "      <th>ARREST_PRECINCT</th>\n",
       "      <th>JURISDICTION_CODE</th>\n",
       "      <th>AGE_GROUP</th>\n",
       "      <th>PERP_SEX</th>\n",
       "      <th>PERP_RACE</th>\n",
       "      <th>X_COORD_CD</th>\n",
       "      <th>Y_COORD_CD</th>\n",
       "      <th>Latitude</th>\n",
       "      <th>Longitude</th>\n",
       "      <th>New Georeferenced Column</th>\n",
       "    </tr>\n",
       "  </thead>\n",
       "  <tbody>\n",
       "    <tr>\n",
       "      <th>54571</th>\n",
       "      <td>265375648</td>\n",
       "      <td>03/20/2023</td>\n",
       "      <td>105.0</td>\n",
       "      <td>STRANGULATION 1ST</td>\n",
       "      <td>106.0</td>\n",
       "      <td>FELONY ASSAULT</td>\n",
       "      <td>PL 1211200</td>\n",
       "      <td>F</td>\n",
       "      <td>Q</td>\n",
       "      <td>113</td>\n",
       "      <td>0</td>\n",
       "      <td>25-44</td>\n",
       "      <td>M</td>\n",
       "      <td>ASIAN / PACIFIC ISLANDER</td>\n",
       "      <td>1046399</td>\n",
       "      <td>187126</td>\n",
       "      <td>40.680077</td>\n",
       "      <td>-73.775929</td>\n",
       "      <td>POINT (-73.775929 40.680077)</td>\n",
       "    </tr>\n",
       "    <tr>\n",
       "      <th>54572</th>\n",
       "      <td>265375611</td>\n",
       "      <td>03/20/2023</td>\n",
       "      <td>113.0</td>\n",
       "      <td>MENACING,UNCLASSIFIED</td>\n",
       "      <td>344.0</td>\n",
       "      <td>ASSAULT 3 &amp; RELATED OFFENSES</td>\n",
       "      <td>PL 1201401</td>\n",
       "      <td>M</td>\n",
       "      <td>M</td>\n",
       "      <td>33</td>\n",
       "      <td>0</td>\n",
       "      <td>18-24</td>\n",
       "      <td>M</td>\n",
       "      <td>WHITE HISPANIC</td>\n",
       "      <td>1000542</td>\n",
       "      <td>244360</td>\n",
       "      <td>40.837374</td>\n",
       "      <td>-73.941122</td>\n",
       "      <td>POINT (-73.941122 40.837374)</td>\n",
       "    </tr>\n",
       "    <tr>\n",
       "      <th>54573</th>\n",
       "      <td>265027445</td>\n",
       "      <td>03/13/2023</td>\n",
       "      <td>439.0</td>\n",
       "      <td>LARCENY,GRAND FROM OPEN AREAS, UNATTENDED</td>\n",
       "      <td>109.0</td>\n",
       "      <td>GRAND LARCENY</td>\n",
       "      <td>PL 1553001</td>\n",
       "      <td>F</td>\n",
       "      <td>Q</td>\n",
       "      <td>113</td>\n",
       "      <td>0</td>\n",
       "      <td>18-24</td>\n",
       "      <td>M</td>\n",
       "      <td>WHITE</td>\n",
       "      <td>1046399</td>\n",
       "      <td>187126</td>\n",
       "      <td>40.680077</td>\n",
       "      <td>-73.775929</td>\n",
       "      <td>POINT (-73.775929 40.680077)</td>\n",
       "    </tr>\n",
       "    <tr>\n",
       "      <th>54574</th>\n",
       "      <td>265277526</td>\n",
       "      <td>03/17/2023</td>\n",
       "      <td>101.0</td>\n",
       "      <td>ASSAULT 3</td>\n",
       "      <td>344.0</td>\n",
       "      <td>ASSAULT 3 &amp; RELATED OFFENSES</td>\n",
       "      <td>PL 1200001</td>\n",
       "      <td>M</td>\n",
       "      <td>Q</td>\n",
       "      <td>112</td>\n",
       "      <td>0</td>\n",
       "      <td>65+</td>\n",
       "      <td>M</td>\n",
       "      <td>ASIAN / PACIFIC ISLANDER</td>\n",
       "      <td>1024734</td>\n",
       "      <td>197982</td>\n",
       "      <td>40.709999</td>\n",
       "      <td>-73.853973</td>\n",
       "      <td>POINT (-73.853973 40.709999)</td>\n",
       "    </tr>\n",
       "    <tr>\n",
       "      <th>54575</th>\n",
       "      <td>265989716</td>\n",
       "      <td>03/31/2023</td>\n",
       "      <td>792.0</td>\n",
       "      <td>CRIMINAL POSSESSION WEAPON</td>\n",
       "      <td>118.0</td>\n",
       "      <td>DANGEROUS WEAPONS</td>\n",
       "      <td>PL 2650303</td>\n",
       "      <td>F</td>\n",
       "      <td>Q</td>\n",
       "      <td>114</td>\n",
       "      <td>11</td>\n",
       "      <td>25-44</td>\n",
       "      <td>M</td>\n",
       "      <td>WHITE</td>\n",
       "      <td>1006898</td>\n",
       "      <td>220358</td>\n",
       "      <td>40.771479</td>\n",
       "      <td>-73.918233</td>\n",
       "      <td>POINT (-73.91823339 40.7714791)</td>\n",
       "    </tr>\n",
       "  </tbody>\n",
       "</table>\n",
       "</div>"
      ],
      "text/plain": [
       "       ARREST_KEY ARREST_DATE  PD_CD  \\\n",
       "54571   265375648  03/20/2023  105.0   \n",
       "54572   265375611  03/20/2023  113.0   \n",
       "54573   265027445  03/13/2023  439.0   \n",
       "54574   265277526  03/17/2023  101.0   \n",
       "54575   265989716  03/31/2023  792.0   \n",
       "\n",
       "                                         PD_DESC  KY_CD  \\\n",
       "54571                          STRANGULATION 1ST  106.0   \n",
       "54572                      MENACING,UNCLASSIFIED  344.0   \n",
       "54573  LARCENY,GRAND FROM OPEN AREAS, UNATTENDED  109.0   \n",
       "54574                                  ASSAULT 3  344.0   \n",
       "54575                 CRIMINAL POSSESSION WEAPON  118.0   \n",
       "\n",
       "                          OFNS_DESC    LAW_CODE LAW_CAT_CD ARREST_BORO  \\\n",
       "54571                FELONY ASSAULT  PL 1211200          F           Q   \n",
       "54572  ASSAULT 3 & RELATED OFFENSES  PL 1201401          M           M   \n",
       "54573                 GRAND LARCENY  PL 1553001          F           Q   \n",
       "54574  ASSAULT 3 & RELATED OFFENSES  PL 1200001          M           Q   \n",
       "54575             DANGEROUS WEAPONS  PL 2650303          F           Q   \n",
       "\n",
       "       ARREST_PRECINCT  JURISDICTION_CODE AGE_GROUP PERP_SEX  \\\n",
       "54571              113                  0     25-44        M   \n",
       "54572               33                  0     18-24        M   \n",
       "54573              113                  0     18-24        M   \n",
       "54574              112                  0       65+        M   \n",
       "54575              114                 11     25-44        M   \n",
       "\n",
       "                      PERP_RACE  X_COORD_CD  Y_COORD_CD   Latitude  Longitude  \\\n",
       "54571  ASIAN / PACIFIC ISLANDER     1046399      187126  40.680077 -73.775929   \n",
       "54572            WHITE HISPANIC     1000542      244360  40.837374 -73.941122   \n",
       "54573                     WHITE     1046399      187126  40.680077 -73.775929   \n",
       "54574  ASIAN / PACIFIC ISLANDER     1024734      197982  40.709999 -73.853973   \n",
       "54575                     WHITE     1006898      220358  40.771479 -73.918233   \n",
       "\n",
       "              New Georeferenced Column  \n",
       "54571     POINT (-73.775929 40.680077)  \n",
       "54572     POINT (-73.941122 40.837374)  \n",
       "54573     POINT (-73.775929 40.680077)  \n",
       "54574     POINT (-73.853973 40.709999)  \n",
       "54575  POINT (-73.91823339 40.7714791)  "
      ]
     },
     "execution_count": 4,
     "metadata": {},
     "output_type": "execute_result"
    }
   ],
   "source": [
    "df.tail()"
   ]
  },
  {
   "cell_type": "code",
   "execution_count": 5,
   "metadata": {},
   "outputs": [
    {
     "data": {
      "text/plain": [
       "(54576, 19)"
      ]
     },
     "execution_count": 5,
     "metadata": {},
     "output_type": "execute_result"
    }
   ],
   "source": [
    "# datashape shows we have 54,576 rows of data in 19 columnns\n",
    "df.shape"
   ]
  },
  {
   "cell_type": "code",
   "execution_count": 6,
   "metadata": {},
   "outputs": [
    {
     "data": {
      "text/plain": [
       "ARREST_KEY                    int64\n",
       "ARREST_DATE                  object\n",
       "PD_CD                       float64\n",
       "PD_DESC                      object\n",
       "KY_CD                       float64\n",
       "OFNS_DESC                    object\n",
       "LAW_CODE                     object\n",
       "LAW_CAT_CD                   object\n",
       "ARREST_BORO                  object\n",
       "ARREST_PRECINCT               int64\n",
       "JURISDICTION_CODE             int64\n",
       "AGE_GROUP                    object\n",
       "PERP_SEX                     object\n",
       "PERP_RACE                    object\n",
       "X_COORD_CD                    int64\n",
       "Y_COORD_CD                    int64\n",
       "Latitude                    float64\n",
       "Longitude                   float64\n",
       "New Georeferenced Column     object\n",
       "dtype: object"
      ]
     },
     "execution_count": 6,
     "metadata": {},
     "output_type": "execute_result"
    }
   ],
   "source": [
    "# columns data types\n",
    "df.dtypes"
   ]
  },
  {
   "cell_type": "code",
   "execution_count": 7,
   "metadata": {},
   "outputs": [
    {
     "data": {
      "text/plain": [
       "ARREST_KEY                    0\n",
       "ARREST_DATE                   0\n",
       "PD_CD                       251\n",
       "PD_DESC                       0\n",
       "KY_CD                       251\n",
       "OFNS_DESC                     0\n",
       "LAW_CODE                      0\n",
       "LAW_CAT_CD                  420\n",
       "ARREST_BORO                   0\n",
       "ARREST_PRECINCT               0\n",
       "JURISDICTION_CODE             0\n",
       "AGE_GROUP                     0\n",
       "PERP_SEX                      0\n",
       "PERP_RACE                     0\n",
       "X_COORD_CD                    0\n",
       "Y_COORD_CD                    0\n",
       "Latitude                      0\n",
       "Longitude                     0\n",
       "New Georeferenced Column      0\n",
       "dtype: int64"
      ]
     },
     "execution_count": 7,
     "metadata": {},
     "output_type": "execute_result"
    }
   ],
   "source": [
    "# total of null values per column\n",
    "df.isnull().sum()"
   ]
  },
  {
   "cell_type": "code",
   "execution_count": 8,
   "metadata": {},
   "outputs": [
    {
     "data": {
      "text/plain": [
       "Index(['ARREST_KEY', 'ARREST_DATE', 'PD_CD', 'PD_DESC', 'KY_CD', 'OFNS_DESC',\n",
       "       'LAW_CODE', 'LAW_CAT_CD', 'ARREST_BORO', 'ARREST_PRECINCT',\n",
       "       'JURISDICTION_CODE', 'AGE_GROUP', 'PERP_SEX', 'PERP_RACE', 'X_COORD_CD',\n",
       "       'Y_COORD_CD', 'Latitude', 'Longitude', 'New Georeferenced Column'],\n",
       "      dtype='object')"
      ]
     },
     "execution_count": 8,
     "metadata": {},
     "output_type": "execute_result"
    }
   ],
   "source": [
    "# columns\n",
    "df.columns"
   ]
  },
  {
   "cell_type": "markdown",
   "metadata": {},
   "source": [
    "# Data Cleaning"
   ]
  },
  {
   "cell_type": "code",
   "execution_count": 9,
   "metadata": {},
   "outputs": [],
   "source": [
    "# creating list of columns I want to drop\n",
    "drop_cols = ['KY_CD','OFNS_DESC','JURISDICTION_CODE','X_COORD_CD',\n",
    "       'Y_COORD_CD', 'Latitude', 'Longitude', 'New Georeferenced Column', 'PD_CD', 'LAW_CODE']"
   ]
  },
  {
   "cell_type": "code",
   "execution_count": 10,
   "metadata": {},
   "outputs": [],
   "source": [
    "# pass list of column I want to drop\n",
    "df.drop(drop_cols, inplace = True, axis =1)"
   ]
  },
  {
   "cell_type": "code",
   "execution_count": 11,
   "metadata": {},
   "outputs": [
    {
     "data": {
      "text/html": [
       "<div>\n",
       "<style scoped>\n",
       "    .dataframe tbody tr th:only-of-type {\n",
       "        vertical-align: middle;\n",
       "    }\n",
       "\n",
       "    .dataframe tbody tr th {\n",
       "        vertical-align: top;\n",
       "    }\n",
       "\n",
       "    .dataframe thead th {\n",
       "        text-align: right;\n",
       "    }\n",
       "</style>\n",
       "<table border=\"1\" class=\"dataframe\">\n",
       "  <thead>\n",
       "    <tr style=\"text-align: right;\">\n",
       "      <th></th>\n",
       "      <th>ARREST_KEY</th>\n",
       "      <th>ARREST_DATE</th>\n",
       "      <th>PD_DESC</th>\n",
       "      <th>LAW_CAT_CD</th>\n",
       "      <th>ARREST_BORO</th>\n",
       "      <th>ARREST_PRECINCT</th>\n",
       "      <th>AGE_GROUP</th>\n",
       "      <th>PERP_SEX</th>\n",
       "      <th>PERP_RACE</th>\n",
       "    </tr>\n",
       "  </thead>\n",
       "  <tbody>\n",
       "    <tr>\n",
       "      <th>0</th>\n",
       "      <td>263187871</td>\n",
       "      <td>02/07/2023</td>\n",
       "      <td>STRANGULATION 1ST</td>\n",
       "      <td>F</td>\n",
       "      <td>S</td>\n",
       "      <td>120</td>\n",
       "      <td>25-44</td>\n",
       "      <td>M</td>\n",
       "      <td>BLACK</td>\n",
       "    </tr>\n",
       "    <tr>\n",
       "      <th>1</th>\n",
       "      <td>261368273</td>\n",
       "      <td>01/04/2023</td>\n",
       "      <td>(null)</td>\n",
       "      <td>M</td>\n",
       "      <td>M</td>\n",
       "      <td>34</td>\n",
       "      <td>25-44</td>\n",
       "      <td>F</td>\n",
       "      <td>BLACK</td>\n",
       "    </tr>\n",
       "    <tr>\n",
       "      <th>2</th>\n",
       "      <td>261667175</td>\n",
       "      <td>01/10/2023</td>\n",
       "      <td>ASSAULT 3</td>\n",
       "      <td>M</td>\n",
       "      <td>B</td>\n",
       "      <td>42</td>\n",
       "      <td>18-24</td>\n",
       "      <td>F</td>\n",
       "      <td>WHITE HISPANIC</td>\n",
       "    </tr>\n",
       "    <tr>\n",
       "      <th>3</th>\n",
       "      <td>264298625</td>\n",
       "      <td>02/27/2023</td>\n",
       "      <td>(null)</td>\n",
       "      <td>F</td>\n",
       "      <td>Q</td>\n",
       "      <td>113</td>\n",
       "      <td>25-44</td>\n",
       "      <td>M</td>\n",
       "      <td>BLACK</td>\n",
       "    </tr>\n",
       "    <tr>\n",
       "      <th>4</th>\n",
       "      <td>261516485</td>\n",
       "      <td>01/07/2023</td>\n",
       "      <td>ROBBERY,OPEN AREA UNCLASSIFIED</td>\n",
       "      <td>F</td>\n",
       "      <td>M</td>\n",
       "      <td>18</td>\n",
       "      <td>&lt;18</td>\n",
       "      <td>M</td>\n",
       "      <td>BLACK</td>\n",
       "    </tr>\n",
       "  </tbody>\n",
       "</table>\n",
       "</div>"
      ],
      "text/plain": [
       "   ARREST_KEY ARREST_DATE                         PD_DESC LAW_CAT_CD  \\\n",
       "0   263187871  02/07/2023               STRANGULATION 1ST          F   \n",
       "1   261368273  01/04/2023                          (null)          M   \n",
       "2   261667175  01/10/2023                       ASSAULT 3          M   \n",
       "3   264298625  02/27/2023                          (null)          F   \n",
       "4   261516485  01/07/2023  ROBBERY,OPEN AREA UNCLASSIFIED          F   \n",
       "\n",
       "  ARREST_BORO  ARREST_PRECINCT AGE_GROUP PERP_SEX       PERP_RACE  \n",
       "0           S              120     25-44        M           BLACK  \n",
       "1           M               34     25-44        F           BLACK  \n",
       "2           B               42     18-24        F  WHITE HISPANIC  \n",
       "3           Q              113     25-44        M           BLACK  \n",
       "4           M               18       <18        M           BLACK  "
      ]
     },
     "execution_count": 11,
     "metadata": {},
     "output_type": "execute_result"
    }
   ],
   "source": [
    "# header sample confirming columns dropped\n",
    "df.head()"
   ]
  },
  {
   "cell_type": "code",
   "execution_count": 12,
   "metadata": {},
   "outputs": [
    {
     "data": {
      "text/html": [
       "<div>\n",
       "<style scoped>\n",
       "    .dataframe tbody tr th:only-of-type {\n",
       "        vertical-align: middle;\n",
       "    }\n",
       "\n",
       "    .dataframe tbody tr th {\n",
       "        vertical-align: top;\n",
       "    }\n",
       "\n",
       "    .dataframe thead th {\n",
       "        text-align: right;\n",
       "    }\n",
       "</style>\n",
       "<table border=\"1\" class=\"dataframe\">\n",
       "  <thead>\n",
       "    <tr style=\"text-align: right;\">\n",
       "      <th></th>\n",
       "      <th>ARREST_KEY</th>\n",
       "      <th>ARREST_DATE</th>\n",
       "      <th>PD_DESC</th>\n",
       "      <th>LAW_CAT_CD</th>\n",
       "      <th>ARREST_BORO</th>\n",
       "      <th>ARREST_PRECINCT</th>\n",
       "      <th>AGE_GROUP</th>\n",
       "      <th>PERP_SEX</th>\n",
       "      <th>PERP_RACE</th>\n",
       "    </tr>\n",
       "  </thead>\n",
       "  <tbody>\n",
       "    <tr>\n",
       "      <th>0</th>\n",
       "      <td>263187871</td>\n",
       "      <td>02/07/2023</td>\n",
       "      <td>STRANGULATION 1ST</td>\n",
       "      <td>F</td>\n",
       "      <td>S</td>\n",
       "      <td>120</td>\n",
       "      <td>25-44</td>\n",
       "      <td>M</td>\n",
       "      <td>BLACK</td>\n",
       "    </tr>\n",
       "    <tr>\n",
       "      <th>1</th>\n",
       "      <td>261368273</td>\n",
       "      <td>01/04/2023</td>\n",
       "      <td>(null)</td>\n",
       "      <td>M</td>\n",
       "      <td>M</td>\n",
       "      <td>34</td>\n",
       "      <td>25-44</td>\n",
       "      <td>F</td>\n",
       "      <td>BLACK</td>\n",
       "    </tr>\n",
       "    <tr>\n",
       "      <th>2</th>\n",
       "      <td>261667175</td>\n",
       "      <td>01/10/2023</td>\n",
       "      <td>ASSAULT 3</td>\n",
       "      <td>M</td>\n",
       "      <td>B</td>\n",
       "      <td>42</td>\n",
       "      <td>18-24</td>\n",
       "      <td>F</td>\n",
       "      <td>WHITE HISPANIC</td>\n",
       "    </tr>\n",
       "    <tr>\n",
       "      <th>3</th>\n",
       "      <td>264298625</td>\n",
       "      <td>02/27/2023</td>\n",
       "      <td>(null)</td>\n",
       "      <td>F</td>\n",
       "      <td>Q</td>\n",
       "      <td>113</td>\n",
       "      <td>25-44</td>\n",
       "      <td>M</td>\n",
       "      <td>BLACK</td>\n",
       "    </tr>\n",
       "    <tr>\n",
       "      <th>4</th>\n",
       "      <td>261516485</td>\n",
       "      <td>01/07/2023</td>\n",
       "      <td>ROBBERY,OPEN AREA UNCLASSIFIED</td>\n",
       "      <td>F</td>\n",
       "      <td>M</td>\n",
       "      <td>18</td>\n",
       "      <td>&lt;18</td>\n",
       "      <td>M</td>\n",
       "      <td>BLACK</td>\n",
       "    </tr>\n",
       "    <tr>\n",
       "      <th>...</th>\n",
       "      <td>...</td>\n",
       "      <td>...</td>\n",
       "      <td>...</td>\n",
       "      <td>...</td>\n",
       "      <td>...</td>\n",
       "      <td>...</td>\n",
       "      <td>...</td>\n",
       "      <td>...</td>\n",
       "      <td>...</td>\n",
       "    </tr>\n",
       "    <tr>\n",
       "      <th>54571</th>\n",
       "      <td>265375648</td>\n",
       "      <td>03/20/2023</td>\n",
       "      <td>STRANGULATION 1ST</td>\n",
       "      <td>F</td>\n",
       "      <td>Q</td>\n",
       "      <td>113</td>\n",
       "      <td>25-44</td>\n",
       "      <td>M</td>\n",
       "      <td>ASIAN / PACIFIC ISLANDER</td>\n",
       "    </tr>\n",
       "    <tr>\n",
       "      <th>54572</th>\n",
       "      <td>265375611</td>\n",
       "      <td>03/20/2023</td>\n",
       "      <td>MENACING,UNCLASSIFIED</td>\n",
       "      <td>M</td>\n",
       "      <td>M</td>\n",
       "      <td>33</td>\n",
       "      <td>18-24</td>\n",
       "      <td>M</td>\n",
       "      <td>WHITE HISPANIC</td>\n",
       "    </tr>\n",
       "    <tr>\n",
       "      <th>54573</th>\n",
       "      <td>265027445</td>\n",
       "      <td>03/13/2023</td>\n",
       "      <td>LARCENY,GRAND FROM OPEN AREAS, UNATTENDED</td>\n",
       "      <td>F</td>\n",
       "      <td>Q</td>\n",
       "      <td>113</td>\n",
       "      <td>18-24</td>\n",
       "      <td>M</td>\n",
       "      <td>WHITE</td>\n",
       "    </tr>\n",
       "    <tr>\n",
       "      <th>54574</th>\n",
       "      <td>265277526</td>\n",
       "      <td>03/17/2023</td>\n",
       "      <td>ASSAULT 3</td>\n",
       "      <td>M</td>\n",
       "      <td>Q</td>\n",
       "      <td>112</td>\n",
       "      <td>65+</td>\n",
       "      <td>M</td>\n",
       "      <td>ASIAN / PACIFIC ISLANDER</td>\n",
       "    </tr>\n",
       "    <tr>\n",
       "      <th>54575</th>\n",
       "      <td>265989716</td>\n",
       "      <td>03/31/2023</td>\n",
       "      <td>CRIMINAL POSSESSION WEAPON</td>\n",
       "      <td>F</td>\n",
       "      <td>Q</td>\n",
       "      <td>114</td>\n",
       "      <td>25-44</td>\n",
       "      <td>M</td>\n",
       "      <td>WHITE</td>\n",
       "    </tr>\n",
       "  </tbody>\n",
       "</table>\n",
       "<p>54156 rows × 9 columns</p>\n",
       "</div>"
      ],
      "text/plain": [
       "       ARREST_KEY ARREST_DATE                                    PD_DESC  \\\n",
       "0       263187871  02/07/2023                          STRANGULATION 1ST   \n",
       "1       261368273  01/04/2023                                     (null)   \n",
       "2       261667175  01/10/2023                                  ASSAULT 3   \n",
       "3       264298625  02/27/2023                                     (null)   \n",
       "4       261516485  01/07/2023             ROBBERY,OPEN AREA UNCLASSIFIED   \n",
       "...           ...         ...                                        ...   \n",
       "54571   265375648  03/20/2023                          STRANGULATION 1ST   \n",
       "54572   265375611  03/20/2023                      MENACING,UNCLASSIFIED   \n",
       "54573   265027445  03/13/2023  LARCENY,GRAND FROM OPEN AREAS, UNATTENDED   \n",
       "54574   265277526  03/17/2023                                  ASSAULT 3   \n",
       "54575   265989716  03/31/2023                 CRIMINAL POSSESSION WEAPON   \n",
       "\n",
       "      LAW_CAT_CD ARREST_BORO  ARREST_PRECINCT AGE_GROUP PERP_SEX  \\\n",
       "0              F           S              120     25-44        M   \n",
       "1              M           M               34     25-44        F   \n",
       "2              M           B               42     18-24        F   \n",
       "3              F           Q              113     25-44        M   \n",
       "4              F           M               18       <18        M   \n",
       "...          ...         ...              ...       ...      ...   \n",
       "54571          F           Q              113     25-44        M   \n",
       "54572          M           M               33     18-24        M   \n",
       "54573          F           Q              113     18-24        M   \n",
       "54574          M           Q              112       65+        M   \n",
       "54575          F           Q              114     25-44        M   \n",
       "\n",
       "                      PERP_RACE  \n",
       "0                         BLACK  \n",
       "1                         BLACK  \n",
       "2                WHITE HISPANIC  \n",
       "3                         BLACK  \n",
       "4                         BLACK  \n",
       "...                         ...  \n",
       "54571  ASIAN / PACIFIC ISLANDER  \n",
       "54572            WHITE HISPANIC  \n",
       "54573                     WHITE  \n",
       "54574  ASIAN / PACIFIC ISLANDER  \n",
       "54575                     WHITE  \n",
       "\n",
       "[54156 rows x 9 columns]"
      ]
     },
     "execution_count": 12,
     "metadata": {},
     "output_type": "execute_result"
    }
   ],
   "source": [
    "# drop all standard missing values\n",
    "df.dropna()"
   ]
  },
  {
   "cell_type": "code",
   "execution_count": 13,
   "metadata": {},
   "outputs": [],
   "source": [
    "# renamed columns for improved readbility\n",
    "df.rename(columns={'PD_DESC': 'OFFENSE', 'LAW_CAT_CD': 'OFFENSE_LEVEL', 'ARREST_BORO': 'BOROUGH', 'ARREST_PRECINCT': 'PRECINCT',\n",
    "                   'PERP_SEX': 'GENDER', 'PERP_RACE': 'RACE'}, inplace=True)"
   ]
  },
  {
   "cell_type": "code",
   "execution_count": 14,
   "metadata": {},
   "outputs": [
    {
     "data": {
      "text/html": [
       "<div>\n",
       "<style scoped>\n",
       "    .dataframe tbody tr th:only-of-type {\n",
       "        vertical-align: middle;\n",
       "    }\n",
       "\n",
       "    .dataframe tbody tr th {\n",
       "        vertical-align: top;\n",
       "    }\n",
       "\n",
       "    .dataframe thead th {\n",
       "        text-align: right;\n",
       "    }\n",
       "</style>\n",
       "<table border=\"1\" class=\"dataframe\">\n",
       "  <thead>\n",
       "    <tr style=\"text-align: right;\">\n",
       "      <th></th>\n",
       "      <th>ARREST_KEY</th>\n",
       "      <th>ARREST_DATE</th>\n",
       "      <th>OFFENSE</th>\n",
       "      <th>OFFENSE_LEVEL</th>\n",
       "      <th>BOROUGH</th>\n",
       "      <th>PRECINCT</th>\n",
       "      <th>AGE_GROUP</th>\n",
       "      <th>GENDER</th>\n",
       "      <th>RACE</th>\n",
       "    </tr>\n",
       "  </thead>\n",
       "  <tbody>\n",
       "    <tr>\n",
       "      <th>0</th>\n",
       "      <td>263187871</td>\n",
       "      <td>02/07/2023</td>\n",
       "      <td>STRANGULATION 1ST</td>\n",
       "      <td>F</td>\n",
       "      <td>S</td>\n",
       "      <td>120</td>\n",
       "      <td>25-44</td>\n",
       "      <td>M</td>\n",
       "      <td>BLACK</td>\n",
       "    </tr>\n",
       "    <tr>\n",
       "      <th>1</th>\n",
       "      <td>261368273</td>\n",
       "      <td>01/04/2023</td>\n",
       "      <td>(null)</td>\n",
       "      <td>M</td>\n",
       "      <td>M</td>\n",
       "      <td>34</td>\n",
       "      <td>25-44</td>\n",
       "      <td>F</td>\n",
       "      <td>BLACK</td>\n",
       "    </tr>\n",
       "    <tr>\n",
       "      <th>2</th>\n",
       "      <td>261667175</td>\n",
       "      <td>01/10/2023</td>\n",
       "      <td>ASSAULT 3</td>\n",
       "      <td>M</td>\n",
       "      <td>B</td>\n",
       "      <td>42</td>\n",
       "      <td>18-24</td>\n",
       "      <td>F</td>\n",
       "      <td>WHITE HISPANIC</td>\n",
       "    </tr>\n",
       "    <tr>\n",
       "      <th>3</th>\n",
       "      <td>264298625</td>\n",
       "      <td>02/27/2023</td>\n",
       "      <td>(null)</td>\n",
       "      <td>F</td>\n",
       "      <td>Q</td>\n",
       "      <td>113</td>\n",
       "      <td>25-44</td>\n",
       "      <td>M</td>\n",
       "      <td>BLACK</td>\n",
       "    </tr>\n",
       "    <tr>\n",
       "      <th>4</th>\n",
       "      <td>261516485</td>\n",
       "      <td>01/07/2023</td>\n",
       "      <td>ROBBERY,OPEN AREA UNCLASSIFIED</td>\n",
       "      <td>F</td>\n",
       "      <td>M</td>\n",
       "      <td>18</td>\n",
       "      <td>&lt;18</td>\n",
       "      <td>M</td>\n",
       "      <td>BLACK</td>\n",
       "    </tr>\n",
       "  </tbody>\n",
       "</table>\n",
       "</div>"
      ],
      "text/plain": [
       "   ARREST_KEY ARREST_DATE                         OFFENSE OFFENSE_LEVEL  \\\n",
       "0   263187871  02/07/2023               STRANGULATION 1ST             F   \n",
       "1   261368273  01/04/2023                          (null)             M   \n",
       "2   261667175  01/10/2023                       ASSAULT 3             M   \n",
       "3   264298625  02/27/2023                          (null)             F   \n",
       "4   261516485  01/07/2023  ROBBERY,OPEN AREA UNCLASSIFIED             F   \n",
       "\n",
       "  BOROUGH  PRECINCT AGE_GROUP GENDER            RACE  \n",
       "0       S       120     25-44      M           BLACK  \n",
       "1       M        34     25-44      F           BLACK  \n",
       "2       B        42     18-24      F  WHITE HISPANIC  \n",
       "3       Q       113     25-44      M           BLACK  \n",
       "4       M        18       <18      M           BLACK  "
      ]
     },
     "execution_count": 14,
     "metadata": {},
     "output_type": "execute_result"
    }
   ],
   "source": [
    "# confirming column names\n",
    "df.head()"
   ]
  },
  {
   "cell_type": "markdown",
   "metadata": {},
   "source": [
    "# Exploratory Analysis"
   ]
  },
  {
   "cell_type": "code",
   "execution_count": 15,
   "metadata": {},
   "outputs": [
    {
     "data": {
      "text/plain": [
       "GENDER  RACE                          \n",
       "U       AMERICAN INDIAN/ALASKAN NATIVE        3\n",
       "F       AMERICAN INDIAN/ALASKAN NATIVE       29\n",
       "U       ASIAN / PACIFIC ISLANDER             33\n",
       "        WHITE                                38\n",
       "        BLACK HISPANIC                       43\n",
       "F       UNKNOWN                              64\n",
       "U       UNKNOWN                              83\n",
       "        WHITE HISPANIC                      123\n",
       "M       AMERICAN INDIAN/ALASKAN NATIVE      157\n",
       "U       BLACK                               208\n",
       "M       UNKNOWN                             333\n",
       "F       ASIAN / PACIFIC ISLANDER            422\n",
       "        BLACK HISPANIC                      722\n",
       "        WHITE                              1091\n",
       "        WHITE HISPANIC                     2239\n",
       "M       ASIAN / PACIFIC ISLANDER           2440\n",
       "        BLACK HISPANIC                     4290\n",
       "        WHITE                              4335\n",
       "F       BLACK                              4406\n",
       "M       WHITE HISPANIC                    11464\n",
       "        BLACK                             22053\n",
       "Name: ARREST_KEY, dtype: int64"
      ]
     },
     "execution_count": 15,
     "metadata": {},
     "output_type": "execute_result"
    }
   ],
   "source": [
    "# sorted count of arrests by gender and race, show Males of \"White Hispanic\" and \"Black\" races have the highest counts of \n",
    "# arrests, while \"AMERICAN INDIAN/ALASKAN NATIVE\" of unknown and female genders have the least\n",
    "df.groupby(['GENDER','RACE' ])['ARREST_KEY'].count().sort_values()"
   ]
  },
  {
   "cell_type": "code",
   "execution_count": 16,
   "metadata": {},
   "outputs": [
    {
     "data": {
      "text/plain": [
       "OFFENSE                         BOROUGH\n",
       "FRAUD,UNCLASSIFIED-FELONY       S             1\n",
       "LARCENY,PETIT BY ACQUIRING LOS  S             1\n",
       "TORTURE/INJURE ANIMAL CRUELTY   S             1\n",
       "TRESPASS 1,CRIMINAL             B             1\n",
       "                                K             1\n",
       "                                           ... \n",
       "ASSAULT 3                       Q          1301\n",
       "LARCENY,PETIT FROM OPEN AREAS,  K          1326\n",
       "ASSAULT 3                       K          1498\n",
       "                                B          1537\n",
       "LARCENY,PETIT FROM OPEN AREAS,  M          1992\n",
       "Name: ARREST_KEY, Length: 721, dtype: int64"
      ]
     },
     "execution_count": 16,
     "metadata": {},
     "output_type": "execute_result"
    }
   ],
   "source": [
    "# sorted count of arrests by offense and borough shows Brooklyn, Bronx and Manhattan boroughs with higher arrests for\n",
    "# Assault 3, and Petty Larceny while Staten Island shows lower arrests for Fraud, Petty Larceny and Animal Cruelty/Torture\n",
    "df.groupby(['OFFENSE','BOROUGH' ])['ARREST_KEY'].count().sort_values()"
   ]
  },
  {
   "cell_type": "code",
   "execution_count": 17,
   "metadata": {},
   "outputs": [
    {
     "data": {
      "text/plain": [
       "BOROUGH  GENDER\n",
       "S        U            29\n",
       "B        U           103\n",
       "Q        U           109\n",
       "M        U           130\n",
       "K        U           160\n",
       "S        F           464\n",
       "         M          1832\n",
       "M        F          1873\n",
       "Q        F          1913\n",
       "B        F          2253\n",
       "K        F          2470\n",
       "Q        M          9606\n",
       "B        M         10500\n",
       "M        M         10556\n",
       "K        M         12578\n",
       "Name: ARREST_KEY, dtype: int64"
      ]
     },
     "execution_count": 17,
     "metadata": {},
     "output_type": "execute_result"
    }
   ],
   "source": [
    "# sorted count by borough and gender shows males in Bronx, Manhattan and Brooklyn boroughs have the highest arrests,\n",
    "# with lower arrests for unknown genders in all 5 boroughs\n",
    "df.groupby(['BOROUGH','GENDER'])['ARREST_KEY'].count().sort_values()"
   ]
  },
  {
   "cell_type": "code",
   "execution_count": 18,
   "metadata": {},
   "outputs": [
    {
     "data": {
      "text/plain": [
       "<AxesSubplot:title={'center':'Arrests by Borough'}, xlabel='BOROUGH', ylabel='ARREST_KEY'>"
      ]
     },
     "execution_count": 18,
     "metadata": {},
     "output_type": "execute_result"
    },
    {
     "data": {
      "image/png": "[encoded data removed]",
      "text/plain": [
       "<Figure size 432x288 with 1 Axes>"
      ]
     },
     "metadata": {
      "needs_background": "light"
     },
     "output_type": "display_data"
    }
   ],
   "source": [
    "# barplot showing arrest counts for Brooklyn over 15K, Bronx ~13K and Manhattan ~12.5K\n",
    "df.groupby(['BOROUGH'])['ARREST_KEY'].count().sort_values(ascending=False).plot(kind='bar', title='Arrests by Borough', \n",
    "                                                                                xlabel='BOROUGH', ylabel='ARREST_KEY')"
   ]
  },
  {
   "cell_type": "code",
   "execution_count": 19,
   "metadata": {},
   "outputs": [],
   "source": [
    "# Initial group of comparison is: felonies in Manhattan\n",
    "df1=df.loc[(df['BOROUGH'].str.contains('M') & (df['OFFENSE_LEVEL']=='F'))]"
   ]
  },
  {
   "cell_type": "code",
   "execution_count": 27,
   "metadata": {},
   "outputs": [
    {
     "data": {
      "text/plain": [
       "AGE_GROUP  OFFENSE                                    PRECINCT\n",
       "18-24      (null)                                     25           1\n",
       "25-44      SEXUAL ABUSE                               1            1\n",
       "                                                      23           1\n",
       "           SODOMY 1                                   5            1\n",
       "                                                      30           1\n",
       "                                                                  ..\n",
       "           ROBBERY,OPEN AREA UNCLASSIFIED             14          45\n",
       "           CONTROLLED SUBSTANCE,INTENT TO             14          49\n",
       "           ASSAULT 2,1,UNCLASSIFIED                   14          66\n",
       "           LARCENY,GRAND FROM OPEN AREAS, UNATTENDED  14          75\n",
       "                                                      18          79\n",
       "Name: ARREST_KEY, Length: 1314, dtype: int64"
      ]
     },
     "execution_count": 27,
     "metadata": {},
     "output_type": "execute_result"
    }
   ],
   "source": [
    "# Felonies in Manhattan show Precincts 14 and 48 with higher arrests in Assault, 2, 1 Unclassified and Grand Larceny for \n",
    "# age groups 25-44 \n",
    "df1.groupby(['AGE_GROUP','OFFENSE','PRECINCT'])['ARREST_KEY'].count().sort_values()"
   ]
  },
  {
   "cell_type": "code",
   "execution_count": 21,
   "metadata": {},
   "outputs": [
    {
     "data": {
      "text/plain": [
       "<seaborn.axisgrid.FacetGrid at 0x21b79c3b5b0>"
      ]
     },
     "execution_count": 21,
     "metadata": {},
     "output_type": "execute_result"
    },
    {
     "data": {
      "image/png": "[encoded data removed]",
      "text/plain": [
       "<Figure size 410.375x360 with 1 Axes>"
      ]
     },
     "metadata": {
      "needs_background": "light"
     },
     "output_type": "display_data"
    }
   ],
   "source": [
    "# Manhattan category plot shows higher felony arrests for females less than 18 yrs old in precincts 10-25, unknown gender \n",
    "#ages 25-44 in precincts 15-35 and males 65+ in precincts 10-30\n",
    "sns.catplot(x='AGE_GROUP', y='PRECINCT', hue='GENDER', data=df1, kind=\"box\")"
   ]
  },
  {
   "cell_type": "code",
   "execution_count": 22,
   "metadata": {},
   "outputs": [],
   "source": [
    "# Next group of comparison: felonies in the Bronx \n",
    "df2=df.loc[(df['BOROUGH'].str.contains('B') & (df['OFFENSE_LEVEL']=='F'))]"
   ]
  },
  {
   "cell_type": "code",
   "execution_count": 23,
   "metadata": {},
   "outputs": [
    {
     "data": {
      "text/plain": [
       "AGE_GROUP  OFFENSE                         PRECINCT\n",
       "18-24      (null)                          44           1\n",
       "25-44      SALE SCHOOL GROUNDS             43           1\n",
       "                                           52           1\n",
       "           SEX TRAFFICKING                 44           1\n",
       "           SEXUAL ABUSE                    41           1\n",
       "                                                       ..\n",
       "           ASSAULT 2,1,UNCLASSIFIED        40          52\n",
       "                                           52          57\n",
       "           ROBBERY,OPEN AREA UNCLASSIFIED  44          57\n",
       "           ASSAULT 2,1,UNCLASSIFIED        44          63\n",
       "                                           46          78\n",
       "Name: ARREST_KEY, Length: 1070, dtype: int64"
      ]
     },
     "execution_count": 23,
     "metadata": {},
     "output_type": "execute_result"
    }
   ],
   "source": [
    "# Felonies in the Bronx show Precincts 44 and 46 with higher arrests in Robbery, Open Areas and Assault 2, 1 Unclassified for \n",
    "# age groups 25-44\n",
    "df2.groupby(['AGE_GROUP','OFFENSE','PRECINCT'])['ARREST_KEY'].count().sort_values()"
   ]
  },
  {
   "cell_type": "code",
   "execution_count": 24,
   "metadata": {},
   "outputs": [
    {
     "data": {
      "text/plain": [
       "<seaborn.axisgrid.FacetGrid at 0x21b79c29340>"
      ]
     },
     "execution_count": 24,
     "metadata": {},
     "output_type": "execute_result"
    },
    {
     "data": {
      "image/png": "[encoded data removed]",
      "text/plain": [
       "<Figure size 410.375x360 with 1 Axes>"
      ]
     },
     "metadata": {
      "needs_background": "light"
     },
     "output_type": "display_data"
    }
   ],
   "source": [
    "# Bronx category plot shows higher felony arrests for unknown gender in precincts 41-48 for ages 18-24 , female arrests \n",
    "# less than 18 yrs old in precincts 43-49 and males aged 65+ in precincts 40-46\n",
    "sns.catplot(x='AGE_GROUP', y='PRECINCT', hue='GENDER', data=df2, kind=\"box\")"
   ]
  },
  {
   "cell_type": "code",
   "execution_count": 28,
   "metadata": {},
   "outputs": [],
   "source": [
    "# Conclusion from the summaries and graphs shows Males of \"White Hispanic\" and \"Black\" races have the highest counts of arrests,\n",
    "# while American Indian/Alaskan Native\" of unknown and female genders have the least. Offenses by borough shows Brooklyn leading,\n",
    "# followed by Bronx and Manhattan boroughs. Felonies in Manhattan show Precincts 14 and 48 with higher arrests for age groups \n",
    "# 25-44. Felonies in the Bronx show Precincts 44 and 46 with higher arrests for age groups 25-44."
   ]
  },
  {
   "cell_type": "code",
   "execution_count": null,
   "metadata": {},
   "outputs": [],
   "source": []
  }
 ],
 "metadata": {
  "kernelspec": {
   "display_name": "Python 3",
   "language": "python",
   "name": "python3"
  },
  "language_info": {
   "codemirror_mode": {
    "name": "ipython",
    "version": 3
   },
   "file_extension": ".py",
   "mimetype": "text/x-python",
   "name": "python",
   "nbconvert_exporter": "python",
   "pygments_lexer": "ipython3",
   "version": "3.8.5"
  }
 },
 "nbformat": 4,
 "nbformat_minor": 4
}
